{
  "nbformat": 4,
  "nbformat_minor": 0,
  "metadata": {
    "colab": {
      "provenance": [],
      "authorship_tag": "ABX9TyPNMbvcr0T/oub+Gm5B2dyL",
      "include_colab_link": true
    },
    "kernelspec": {
      "name": "python3",
      "display_name": "Python 3"
    },
    "language_info": {
      "name": "python"
    }
  },
  "cells": [
    {
      "cell_type": "markdown",
      "metadata": {
        "id": "view-in-github",
        "colab_type": "text"
      },
      "source": [
        "<a href=\"https://colab.research.google.com/github/Samruddhi-saoji/Image_handler/blob/main/image_handler.ipynb\" target=\"_parent\"><img src=\"https://colab.research.google.com/assets/colab-badge.svg\" alt=\"Open In Colab\"/></a>"
      ]
    },
    {
      "cell_type": "markdown",
      "source": [
        "# Basic"
      ],
      "metadata": {
        "id": "ev8AXuxtUkBl"
      }
    },
    {
      "cell_type": "code",
      "execution_count": 1,
      "metadata": {
        "id": "WD-Mxi5XT1h0"
      },
      "outputs": [],
      "source": [
        "import cv2\n",
        "import numpy as np\n",
        "import matplotlib.pyplot as plt\n",
        "import pandas as pd\n",
        "import os\n",
        "import glob\n",
        "\n",
        "###### read an image ####\n",
        "def read(img_path):\n",
        "   return cv2.imread(img_path, cv2.IMREAD_GRAYSCALE)\n",
        "\n",
        "\n",
        "##### save an image ###\n",
        "def save(img, img_path=\"output.jpeg\"):\n",
        "   cv2.imwrite(img_path, img)\n",
        "\n",
        "## normalize image before saving\n",
        "def save_normalized(img, img_path=\"output.jpeg\"):\n",
        "    normalized = (img - img.min()) / (img.max() - img.min())\n",
        "    uint8_img = (normalized * 255).astype(np.uint8)\n",
        "\n",
        "    cv2.imwrite(img_path, uint8_img)\n",
        "\n",
        "\n",
        "### get a list of all the images in a folder ####\n",
        "# returns (list of images, list of names)\n",
        "def list_images(folder_path):\n",
        "    result = []\n",
        "\n",
        "    # get list of names of all the images in the folder\n",
        "    file_names = os.listdir(folder_path)\n",
        "\n",
        "    # read each image as numpy aaray\n",
        "    for img_name in file_names:\n",
        "        # full path of the img = folder_path + image name\n",
        "        image_path = os.path.join(folder_path, img_name)\n",
        "\n",
        "        # Read the image and add it to the list\n",
        "        img = read(image_path)\n",
        "        if img is not None:\n",
        "            result.append(read(image_path))\n",
        "\n",
        "    return (result, file_names)\n",
        "\n",
        "\n",
        "#delete all files in a folder\n",
        "def delete_all_files(folder_path):\n",
        "    files = glob.glob(os.path.join(folder_path, '*'))\n",
        "    for file in files:\n",
        "        if os.path.isfile(file):\n",
        "            os.remove(file)\n",
        "\n",
        "\n",
        "# Display image\n",
        "def display(img):\n",
        "    plt.imshow(img, cmap='gray')\n",
        "    plt.axis('off')  # Remove axes\n",
        "    plt.show()\n",
        "\n",
        "#compress image\n",
        "  # reduce img from size (r1, c1) to (r2, c2)\n",
        "  # every (r1/r2)th row and every (c1/c2)th vol of the original img shld be copied to the compressed img\n",
        "def compress_img(img, r1, c1, r2, c2):\n",
        "    compressed_img = img[::r1 // r2, ::c1 // c2]\n",
        "    return compressed_img\n",
        "\n",
        "\n",
        "# (h_old, w_old) to (h_new, w_new)\n",
        "def crop(img, r_start, num_rows, c_start, num_cols):\n",
        "    cropped_img = img[r_start:r_start + num_rows, c_start: c_start + num_cols :]\n",
        "    return cropped_img\n",
        "\n",
        "#create a composite image from a list of images\n",
        "# images = list of images\n",
        "def get_composite(images, weights=[], sum_only=False):\n",
        "    # Ensure all images have the same shape\n",
        "    image_shape = images[0].shape\n",
        "    for img in images:\n",
        "        if img.shape != image_shape:\n",
        "            raise ValueError(\"All images must have the same shape\")\n",
        "\n",
        "    # Initialize an array to store the composite image\n",
        "    composite_image = np.zeros_like(images[0], dtype=np.float32)\n",
        "\n",
        "    n = len(images)\n",
        "    # if weights value has not been passed\n",
        "    if len(weights)==0:\n",
        "        weights = [1 for _ in range(n)]\n",
        "\n",
        "    if len(weights) != n:\n",
        "        print(\"No of images and weights should be same\")\n",
        "        return -1\n",
        "\n",
        "    # Sum the pixel values from all images\n",
        "    for i in range(n):\n",
        "        img = images[i]\n",
        "        w = weights[i]\n",
        "        composite_image = composite_image + w*img.astype(np.float32)\n",
        "        np.clip(composite_image, 0, 255)\n",
        "\n",
        "    if sum_only == False:\n",
        "        composite_image = (composite_image/sum(weights))#(composite_image / len(images)) #.astype(np.uint8)\n",
        "\n",
        "    composite_image.astype(np.uint8)\n",
        "    return np.clip(composite_image, 0, 255)\n",
        "\n",
        "\n",
        "\n"
      ]
    },
    {
      "cell_type": "markdown",
      "source": [
        "# Coloured image handling (BGR)"
      ],
      "metadata": {
        "id": "Zu7-ImvdTF3D"
      }
    },
    {
      "cell_type": "code",
      "source": [
        "import cv2\n",
        "import numpy as np\n",
        "import matplotlib.pyplot as plt\n",
        "import pandas as pd\n",
        "import os\n",
        "import glob\n",
        "\n",
        "#### Reading and Saving #####\n",
        "def read(img_path):\n",
        "   return cv2.imread(img_path, cv2.IMREAD_COLOR)\n",
        "\n",
        "def read_grayscale(img_path):\n",
        "   return cv2.imread(img_path, cv2.IMREAD_GRAYSCALE)\n",
        "\n",
        "def save(img, img_path=\"output.jpeg\"):\n",
        "   cv2.imwrite(img_path, img)\n",
        "\n",
        "\n",
        "# returns (list of images, list of names)\n",
        "def list_images(folder_path):\n",
        "    result = []\n",
        "\n",
        "    # get list of names of all the images in the folder\n",
        "    file_names = os.listdir(folder_path)\n",
        "\n",
        "    # read each image as numpy aaray\n",
        "    for img_name in file_names:\n",
        "        # full path of the img = folder_path + image name\n",
        "        image_path = os.path.join(folder_path, img_name)\n",
        "\n",
        "        # Read the image and add it to the list\n",
        "        img = read(image_path) # read as (r,g,b)\n",
        "        if img is not None:\n",
        "            result.append(read(image_path))\n",
        "\n",
        "    return (result, file_names)\n",
        "\n",
        "\n",
        "#delete all files in a folder\n",
        "def delete_all_files(folder_path):\n",
        "    files = glob.glob(os.path.join(folder_path, '*'))\n",
        "    for file in files:\n",
        "        if os.path.isfile(file):\n",
        "            os.remove(file)\n",
        "\n",
        "\n",
        "#### Updating pixel colour ####\n",
        "# Update pixel at (r, c) to new_clr\n",
        "# new_clr = (b, g, r)\n",
        "def set_pixel(img, pix, new_clr):\n",
        "    r, c = pix[0], pix[1]\n",
        "    b_new, g_new, r_new = new_clr[0], new_clr[1], new_clr[2]\n",
        "\n",
        "    #update the pixel\n",
        "    img.itemset((r, c, 0), b_new)  # Blue channel\n",
        "    img.itemset((r, c, 1), g_new)  # Green channel\n",
        "    img.itemset((r, c, 2), r_new)  # Red channel\n",
        "\n",
        "    #return updated image\n",
        "    return img\n",
        "\n",
        "def set_blue(img, pix, new_blue):\n",
        "    img.itemset((pix[0], pix[1], 0), new_blue)  # Blue channel\n",
        "    return img\n",
        "\n",
        "def set_green(img, pix, new_green):\n",
        "    img.itemset((pix[0], pix[1], 1), new_green)\n",
        "    return img\n",
        "\n",
        "def set_red(img, pix, new_red):\n",
        "    img.itemset((pix[0], pix[1], 2), new_ref)\n",
        "    return img\n",
        "\n",
        "#### Check colour ####\n",
        "# returns True if given pixel is red\n",
        "def isRed(pixel):\n",
        "   b, g, r = pixel\n",
        "   return r > 200 and g < 100 and b < 100\n",
        "\n",
        "def isBlue(pixel, thresh=100):\n",
        "   b, g, r = pixel\n",
        "   #if (b-g)>=thresh and (b-r)>=thresh: return True\n",
        "   #return False\n",
        "   return b > 200 and g < 100 and r < 100\n",
        "\n",
        "def isGreen(pixel):\n",
        "   b, g, r = pixel\n",
        "   #if (g-b)>=75 and (g-r)>=75: return True\n",
        "   #return False\n",
        "   return g > 200 and r < 100 and b < 100\n",
        "\n",
        "\n",
        "# if approx is True, then nearly gray is also ok\n",
        "def isGray(pixel, approx=False, thresh=20):\n",
        "   b, g, r = pixel # image is gray if b=g=r\n",
        "\n",
        "   if not approx:\n",
        "      if (b == g) and (g == r):\n",
        "         return True\n",
        "      else: return False\n",
        "\n",
        "   else: # approximately gray is ok\n",
        "      return abs(r - g) < thresh and abs(g - b) < thresh\n",
        "\n",
        "\n",
        "# if approx is True, then nearly gray is also ok\n",
        "def isWhite(pixel, approx=True, thresh=200):\n",
        "   b, g, r = pixel\n",
        "\n",
        "   if not approx:\n",
        "      if b!=255 or g!=255 or r!=255: return False\n",
        "      else: return True\n",
        "\n",
        "   else: # approximately white is ok\n",
        "      return r > thresh and g > thresh and b > thresh\n",
        "\n",
        "\n",
        "def isBlack(pixel, approx=True, thresh=200):\n",
        "   b, g, r = pixel\n",
        "\n",
        "   if not approx:\n",
        "      if b!=0 or g!=0 or r!=0: return False\n",
        "      else: return True\n",
        "\n",
        "   else: # approximately black is ok\n",
        "      return r < thresh and g < thresh and b < thresh\n",
        "\n",
        "\n",
        "#### basic operations ####\n",
        "#compress image\n",
        "  # reduce img from size (r1, c1) to (r2, c2)\n",
        "  # every (r1/r2)th row and every (c1/c2)th vol of the original img shld be copied to the compressed img\n",
        "def compress_img(img, r1, c1, r2, c2):\n",
        "    compressed_img = img[::r1 // r2, ::c1 // c2]\n",
        "    return compressed_img\n",
        "\n",
        "# (h_old, w_old) to (h_new, w_new)\n",
        "def crop(img, r_start, num_rows, c_start, num_cols):\n",
        "    cropped_img = img[r_start:r_start + num_rows, c_start: c_start + num_cols :]\n",
        "    return cropped_img"
      ],
      "metadata": {
        "id": "7KkuTqjQO9wJ"
      },
      "execution_count": null,
      "outputs": []
    },
    {
      "cell_type": "markdown",
      "source": [
        "# Others"
      ],
      "metadata": {
        "id": "0yhJTl0HU9Fd"
      }
    },
    {
      "cell_type": "markdown",
      "source": [
        "### Mark points p1, p2, .. pn on a grayscale image"
      ],
      "metadata": {
        "id": "zafpa0KBUqIV"
      }
    },
    {
      "cell_type": "markdown",
      "source": [
        "#### Show only (using matplotlib)"
      ],
      "metadata": {
        "id": "7etRfnttjkDw"
      }
    },
    {
      "cell_type": "code",
      "source": [
        "# points = list of points p(x, y)\n",
        "# x coord --> col\n",
        "# y coord --> row\n",
        "def show_points_mpl(img, points):\n",
        "    # initialise output image\n",
        "    output = np.copy(img)\n",
        "\n",
        "    # change each point to white\n",
        "    for point in points:\n",
        "        r, c = point[1], point[0]\n",
        "        output[r, c] = 255\n",
        "    # red marker points will be better visible on white\n",
        "\n",
        "    # Display the modified image\n",
        "    plt.imshow(output, cmap='gray') #grayscale img\n",
        "    # Mark all points with a red dot\n",
        "    plt.scatter([point[0] for point in points], [point[1] for point in points],\n",
        "                color='red', marker='o', s=2)\n",
        "    plt.axis('off') # Remove axes\n",
        "    plt.show()"
      ],
      "metadata": {
        "id": "VcI8TVRQU15e"
      },
      "execution_count": null,
      "outputs": []
    },
    {
      "cell_type": "markdown",
      "source": [
        "#### Mark points and save image (using cv2)"
      ],
      "metadata": {
        "id": "7b-cQ8vnjqaF"
      }
    },
    {
      "cell_type": "code",
      "source": [
        "# img = grayscale image\n",
        "# points = list of points p(x, y)\n",
        "  # x coord --> col\n",
        "  # y coord --> row\n",
        "# dest_path = path to save the image\n",
        "def show_points(img, points, dest_path):\n",
        "    # Convert grayscale image to color (BGR format)\n",
        "    color_image = cv2.cvtColor(img, cv2.COLOR_GRAY2BGR)\n",
        "\n",
        "    # Draw red circles (points) on the color image\n",
        "    for point in points:\n",
        "        cv2.circle(color_image, point, radius=0, color=(0, 0, 255), thickness=0)  # Red color\n",
        "\n",
        "    # Save the updated image\n",
        "    cv2.imwrite(dest_path, color_image)"
      ],
      "metadata": {
        "id": "Qk7W8T_9i4aO"
      },
      "execution_count": null,
      "outputs": []
    },
    {
      "cell_type": "markdown",
      "source": [
        "### Cropping images"
      ],
      "metadata": {
        "id": "P3skSLuUWRMJ"
      }
    },
    {
      "cell_type": "code",
      "source": [
        "# w_old >= w_new\n",
        "# start from 1st row, 1st col\n",
        "def crop(img, w_new, h_new):\n",
        "    # old dimensions\n",
        "    h_old, w_old = img.shape[:2]\n",
        "\n",
        "    x_start = (w_old - w_new) // 2\n",
        "    y_start = (h_old - h_new) // 2\n",
        "    x_end = x_start + w_new\n",
        "    y_end = y_start + h_new\n",
        "\n",
        "    cropped_img = img[y_start:y_end, x_start:x_end]\n",
        "    return cropped_img\n",
        "\n",
        "\n",
        "\n",
        "# keep only n number of rows, starting from the rth row\n",
        "# thus, keep rows r to (r+n-1)\n",
        "def crop_height(img, r, n):\n",
        "    cropped_img = img[r:r + n, :]\n",
        "    return cropped_img"
      ],
      "metadata": {
        "id": "P4ggqNusWT7c"
      },
      "execution_count": null,
      "outputs": []
    },
    {
      "cell_type": "markdown",
      "source": [
        "### TIF to jpeg conversion"
      ],
      "metadata": {
        "id": "j9VoMrKSW2uM"
      }
    },
    {
      "cell_type": "code",
      "source": [
        "############# TIF to JPEG conversion ################\n",
        "\n",
        "from PIL import Image\n",
        "\n",
        "def convert_tif_to_jpeg(src, dest):\n",
        "  \"\"\"\n",
        "  Converts a TIFF file to JPEG format using Pillow (PIL Fork).\n",
        "\n",
        "  Args:\n",
        "      src (str): Path to the source TIFF file.\n",
        "      dest (str): Path to the destination JPEG file.\n",
        "  \"\"\"\n",
        "  try:\n",
        "    # Open the TIFF file\n",
        "    img = Image.open(src)\n",
        "\n",
        "    # Convert the image to RGB mode if necessary\n",
        "    if img.mode != 'RGB':\n",
        "      img = img.convert('RGB')\n",
        "\n",
        "    # Save the image as JPEG with desired quality (0-95)\n",
        "    img.save(dest, \"JPEG\", quality=90)\n",
        "    print(f\"Converted TIFF '{src}' to JPEG '{dest}'.\")\n",
        "  except FileNotFoundError:\n",
        "    print(f\"Error: File '{src}' not found.\")\n",
        "  except OSError:\n",
        "    print(f\"Error: Could not convert '{src}' to JPEG.\")"
      ],
      "metadata": {
        "id": "5CsDDSgfW1LV"
      },
      "execution_count": null,
      "outputs": []
    }
  ]
}